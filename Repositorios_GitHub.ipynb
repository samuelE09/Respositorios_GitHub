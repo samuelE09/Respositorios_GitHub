{
  "nbformat": 4,
  "nbformat_minor": 0,
  "metadata": {
    "colab": {
      "provenance": []
    },
    "kernelspec": {
      "name": "python3",
      "display_name": "Python 3"
    },
    "language_info": {
      "name": "python"
    }
  },
  "cells": [
    {
      "cell_type": "markdown",
      "source": [
        "## Importamos los Modulos necesarios"
      ],
      "metadata": {
        "id": "GrRU90tq9wTn"
      }
    },
    {
      "cell_type": "code",
      "execution_count": 21,
      "metadata": {
        "id": "XukH_ACwFL-n"
      },
      "outputs": [],
      "source": [
        "import requests\n",
        "from bs4 import BeautifulSoup\n",
        "import math"
      ]
    },
    {
      "cell_type": "markdown",
      "source": [
        "## Ingresamos el Username"
      ],
      "metadata": {
        "id": "NHzYritS-XbK"
      }
    },
    {
      "cell_type": "code",
      "source": [
        "username = input(\"Ingresa el Username : \")"
      ],
      "metadata": {
        "colab": {
          "base_uri": "https://localhost:8080/"
        },
        "id": "sTX9uAE9-NHH",
        "outputId": "48df3ebb-da49-4a7a-db31-cb7a9cfcbeb9"
      },
      "execution_count": 86,
      "outputs": [
        {
          "name": "stdout",
          "output_type": "stream",
          "text": [
            "Ingresa el Username : samuelE09\n"
          ]
        }
      ]
    },
    {
      "cell_type": "markdown",
      "source": [
        "## Obtenemos la cantidad de Repositorios del usuario"
      ],
      "metadata": {
        "id": "xrfFb-Dk_ARs"
      }
    },
    {
      "cell_type": "code",
      "source": [
        "repos_per_page = 30\n",
        "url = f\"https://github.com/{username}?tab=repositories\"\n",
        "page = requests.get(url)\n",
        "soup = BeautifulSoup(page.content, \"html.parser\")\n",
        "a_tag = soup.find('a', attrs= {\"data-tab-item\" : \"repositories\"})\n",
        "total_repos = a_tag.span.string \n",
        "print(f\"El usuario {username} tiene {total_repos} repositorios\")"
      ],
      "metadata": {
        "colab": {
          "base_uri": "https://localhost:8080/"
        },
        "id": "mxYGkZSlFcja",
        "outputId": "791c005a-c078-44c9-eca2-e1b633d1c725"
      },
      "execution_count": 87,
      "outputs": [
        {
          "output_type": "stream",
          "name": "stdout",
          "text": [
            "El usuario samuelE09 tiene 11 repositorios\n"
          ]
        }
      ]
    },
    {
      "cell_type": "markdown",
      "source": [
        "## Obtenemos la cantidad de paginas"
      ],
      "metadata": {
        "id": "GIq4PsPE_1Eb"
      }
    },
    {
      "cell_type": "code",
      "source": [
        "num_pages = math.ceil(int(total_repos) / repos_per_page) \n",
        "print(f\"Tiene {num_pages} página(s)\")"
      ],
      "metadata": {
        "colab": {
          "base_uri": "https://localhost:8080/"
        },
        "id": "D2-LqWTxPztZ",
        "outputId": "79e61a7e-e2de-40f6-e063-c8cf0a0fa3bf"
      },
      "execution_count": 90,
      "outputs": [
        {
          "output_type": "stream",
          "name": "stdout",
          "text": [
            "Tiene 1 página(s)\n"
          ]
        }
      ]
    },
    {
      "cell_type": "markdown",
      "source": [
        "## Obtenemos la lista de Repositorios del usuario"
      ],
      "metadata": {
        "id": "9IUwBiOpAV0a"
      }
    },
    {
      "cell_type": "code",
      "source": [
        "print(f\"{username} --> {total_repos} repositorios\")\n",
        "item = 1\n",
        "\n",
        "for i in range(1,num_pages+1):\n",
        "    path = \"https://github.com\"\n",
        "    url2 = f\"https://github.com/{username}?page={i}&tab=repositories\"\n",
        "    page2 = requests.get(url2)\n",
        "    soup2 = BeautifulSoup(page2.content, \"html.parser\")\n",
        "    links = soup2.find_all(\"a\", attrs={\"itemprop\":\"name codeRepository\"})\n",
        "    for link in links:\n",
        "      path2 = link.get('href')\n",
        "      print(f\"{item}.- {path}{path2}\")\n",
        "      item +=1"
      ],
      "metadata": {
        "colab": {
          "base_uri": "https://localhost:8080/"
        },
        "id": "Hr25ZJiBgJBQ",
        "outputId": "b3750177-60e9-4fd6-d799-d6ca9477a354"
      },
      "execution_count": 92,
      "outputs": [
        {
          "output_type": "stream",
          "name": "stdout",
          "text": [
            "samuelE09 --> 11 repositorios\n",
            "1.- https://github.com/samuelE09/Mikrotik_Firewall\n",
            "2.- https://github.com/samuelE09/cotizador-app\n",
            "3.- https://github.com/samuelE09/Ejercicios-Python-Random\n",
            "4.- https://github.com/samuelE09/dominando_python\n",
            "5.- https://github.com/samuelE09/samuelE09\n",
            "6.- https://github.com/samuelE09/react-control-products\n",
            "7.- https://github.com/samuelE09/react-app-clima\n",
            "8.- https://github.com/samuelE09/homepage\n",
            "9.- https://github.com/samuelE09/Django_Shortener_URL\n",
            "10.- https://github.com/samuelE09/Django_Generator_Password\n",
            "11.- https://github.com/samuelE09/Connectivity_Test_Script\n"
          ]
        }
      ]
    }
  ]
}